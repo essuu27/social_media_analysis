{
 "cells": [
  {
   "cell_type": "code",
   "execution_count": 1,
   "metadata": {
    "executionInfo": {
     "elapsed": 2226,
     "status": "ok",
     "timestamp": 1704318706191,
     "user": {
      "displayName": "S Watkins",
      "userId": "10550384963509445173"
     },
     "user_tz": 0
    },
    "id": "HjcNhbR6Sjm6"
   },
   "outputs": [],
   "source": [
    "# Task 1 – Import required libraries\n",
    "import random\n",
    "import pandas as pd\n",
    "import numpy as np\n",
    "import matplotlib.pyplot as plt\n",
    "import seaborn as sns"
   ]
  },
  {
   "cell_type": "code",
   "execution_count": 2,
   "metadata": {
    "executionInfo": {
     "elapsed": 304,
     "status": "ok",
     "timestamp": 1704318739482,
     "user": {
      "displayName": "S Watkins",
      "userId": "10550384963509445173"
     },
     "user_tz": 0
    },
    "id": "llBz3ET7T8JC"
   },
   "outputs": [],
   "source": [
    "# Task 2 – Generate random data for the social media data\n",
    "## Make a list of category labels\n",
    "categories = ['Food', 'Travel', 'Fashion', 'Fitness',\n",
    "              'Music', 'Culture', 'Family', 'Health']\n",
    "\n",
    "## Generate Twitter-syle data across a date range randomly choosing\n",
    "## category and likes\n",
    "data = {'Date': pd.date_range('2021-01-01', periods=500),\n",
    "        'Category': [random.choice(categories) for _ in range(500)],\n",
    "        'Likes': np.random.randint(0, 10000, size=500)}"
   ]
  },
  {
   "cell_type": "code",
   "execution_count": 3,
   "metadata": {
    "colab": {
     "base_uri": "https://localhost:8080/"
    },
    "executionInfo": {
     "elapsed": 289,
     "status": "ok",
     "timestamp": 1704318765385,
     "user": {
      "displayName": "S Watkins",
      "userId": "10550384963509445173"
     },
     "user_tz": 0
    },
    "id": "qwykg7wUUDp_",
    "outputId": "aa1d7bb8-ac60-4f85-e97d-92d0a6ae2e80"
   },
   "outputs": [
    {
     "name": "stdout",
     "output_type": "stream",
     "text": [
      "        Date Category  Likes\n",
      "0 2021-01-01   Family   3377\n",
      "1 2021-01-02  Culture    911\n",
      "2 2021-01-03     Food   3576\n",
      "3 2021-01-04  Fashion   9769\n",
      "4 2021-01-05  Fashion   7898\n"
     ]
    }
   ],
   "source": [
    "# Task 3 – Load the data into a Pandas DataFrame and Explore the data\n",
    "## Import Twitter data into a pandas DataFrame and show the top 5 lines\n",
    "df = pd.DataFrame(data)\n",
    "print(df.head(5))\n",
    "\n",
    "valcounts = df.Category.value_counts()"
   ]
  },
  {
   "cell_type": "code",
   "execution_count": 4,
   "metadata": {
    "executionInfo": {
     "elapsed": 283,
     "status": "ok",
     "timestamp": 1704318800811,
     "user": {
      "displayName": "S Watkins",
      "userId": "10550384963509445173"
     },
     "user_tz": 0
    },
    "id": "i_-vYpdsUJo9"
   },
   "outputs": [],
   "source": [
    "# Task 4 – Clean the data\n",
    "## Remove all the null data and any duplicate entries\n",
    "df.dropna(inplace=True)\n",
    "df.drop_duplicates(inplace=True)\n",
    "\n",
    "## Caste the 'Date' value into datetime format\n",
    "df['Date'] = pd.to_datetime(df['Date'])\n",
    "\n",
    "## Caste all 'Likes' values as integer\n",
    "df = df.astype({\"Likes\": int})"
   ]
  },
  {
   "cell_type": "code",
   "execution_count": 5,
   "metadata": {
    "colab": {
     "base_uri": "https://localhost:8080/",
     "height": 458
    },
    "executionInfo": {
     "elapsed": 1200,
     "status": "ok",
     "timestamp": 1704318826776,
     "user": {
      "displayName": "S Watkins",
      "userId": "10550384963509445173"
     },
     "user_tz": 0
    },
    "id": "-nD9HqRRUTRT",
    "outputId": "35dec46c-ea4f-40a8-9442-d0a16bdb7ba6"
   },
   "outputs": [
    {
     "data": {
      "image/png": "[encoded data removed]",
      "text/plain": [
       "<Figure size 640x480 with 1 Axes>"
      ]
     },
     "metadata": {},
     "output_type": "display_data"
    }
   ],
   "source": [
    "## Set a visual theme, and display the data graphically\n",
    "sns.set_theme()\n",
    "sns.boxplot(x=df['Category'], y=df['Likes'])\n",
    "plt.show()"
   ]
  },
  {
   "cell_type": "code",
   "execution_count": 6,
   "metadata": {
    "colab": {
     "base_uri": "https://localhost:8080/"
    },
    "executionInfo": {
     "elapsed": 293,
     "status": "ok",
     "timestamp": 1704318874095,
     "user": {
      "displayName": "S Watkins",
      "userId": "10550384963509445173"
     },
     "user_tz": 0
    },
    "id": "Ikwf_nuZUZj2",
    "outputId": "48bea11e-f75e-465c-f9a9-d70007269be2"
   },
   "outputs": [
    {
     "name": "stdout",
     "output_type": "stream",
     "text": [
      "Likes mean val: 5069.762\n"
     ]
    }
   ],
   "source": [
    "## Find the mean value for the 'Likes' column\n",
    "meanlist = df[\"Likes\"].tolist()\n",
    "print(f\"Likes mean val: {sum(meanlist)/len(meanlist)}\")\n"
   ]
  },
  {
   "cell_type": "code",
   "execution_count": 12,
   "metadata": {
    "colab": {
     "base_uri": "https://localhost:8080/"
    },
    "executionInfo": {
     "elapsed": 257,
     "status": "ok",
     "timestamp": 1704318892724,
     "user": {
      "displayName": "S Watkins",
      "userId": "10550384963509445173"
     },
     "user_tz": 0
    },
    "id": "UyakPuO5UkOU",
    "outputId": "bc61f53c-61eb-4fda-e536-4dd61b40ac0e"
   },
   "outputs": [
    {
     "name": "stdout",
     "output_type": "stream",
     "text": [
      "Food - 4699.851351351352\n",
      "Travel - 5027.724137931034\n",
      "Fashion - 5953.342465753424\n",
      "Fitness - 4501.537313432836\n",
      "Music - 4333.462962962963\n",
      "Culture - 5342.262295081967\n",
      "Family - 5326.9607843137255\n",
      "Health - 5285.919354838709\n"
     ]
    }
   ],
   "source": [
    "# Calculate the mean for the likes of each category\n",
    "means = df.groupby(\"Category\")[\"Likes\"].mean()\n",
    "y = int(0)\n",
    "for x in means:\n",
    "    print(f\"{categories[y]} - {x}\")\n",
    "    y += 1\n"
   ]
  },
  {
   "cell_type": "code",
   "execution_count": null,
   "metadata": {},
   "outputs": [],
   "source": []
  },
  {
   "cell_type": "code",
   "execution_count": null,
   "metadata": {},
   "outputs": [],
   "source": []
  }
 ],
 "metadata": {
  "colab": {
   "authorship_tag": "ABX9TyOqp/yp8dRQjZ5MlgonBlDV",
   "provenance": [
    {
     "file_id": "161MxXXlrErgUUCUCdoQxbS6WufOjV9-B",
     "timestamp": 1704319029400
    }
   ]
  },
  "kernelspec": {
   "display_name": "Python 3 (ipykernel)",
   "language": "python",
   "name": "python3"
  },
  "language_info": {
   "codemirror_mode": {
    "name": "ipython",
    "version": 3
   },
   "file_extension": ".py",
   "mimetype": "text/x-python",
   "name": "python",
   "nbconvert_exporter": "python",
   "pygments_lexer": "ipython3",
   "version": "3.11.4"
  }
 },
 "nbformat": 4,
 "nbformat_minor": 1
}
